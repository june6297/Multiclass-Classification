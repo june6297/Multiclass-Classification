{
 "cells": [
  {
   "cell_type": "code",
   "execution_count": 1,
   "metadata": {},
   "outputs": [],
   "source": [
    "import os\n",
    "import csv"
   ]
  },
  {
   "cell_type": "code",
   "execution_count": 2,
   "metadata": {},
   "outputs": [],
   "source": [
    "def create_image_csv(root_dir, output_file):\n",
    "    image_data = []\n",
    "    \n",
    "    # 루트 디렉토리 아래의 모든 하위 디렉토리 탐색\n",
    "    for class_name in os.listdir(root_dir):\n",
    "        class_dir = os.path.join(root_dir, class_name)\n",
    "        \n",
    "        # 디렉토리인 경우에만 처리\n",
    "        if os.path.isdir(class_dir):\n",
    "            # 각 클래스 디렉토리 내의 이미지 파일 탐색\n",
    "            for image_file in os.listdir(class_dir):\n",
    "                # 이미지 파일 확장자 확인 (필요한 경우 더 추가)\n",
    "                if image_file.lower().endswith(('.png', '.jpg', '.jpeg', '.gif')):\n",
    "                    image_path = os.path.join(class_dir, image_file)\n",
    "                    image_data.append([image_path, class_name])\n",
    "    \n",
    "    # CSV 파일 작성\n",
    "    with open(output_file, 'w', newline='') as csvfile:\n",
    "        csv_writer = csv.writer(csvfile)\n",
    "        csv_writer.writerow(['image_path', 'class'])  # 헤더 작성\n",
    "        csv_writer.writerows(image_data)"
   ]
  },
  {
   "cell_type": "code",
   "execution_count": 5,
   "metadata": {},
   "outputs": [
    {
     "name": "stdout",
     "output_type": "stream",
     "text": [
      "CSV 파일이 생성되었습니다: train_data.csv\n"
     ]
    }
   ],
   "source": [
    "root_directory = '/home/yrok/JHK/gray_data/train'\n",
    "output_csv = 'train_data.csv'\n",
    "\n",
    "create_image_csv(root_directory, output_csv)\n",
    "print(f\"CSV 파일이 생성되었습니다: {output_csv}\")"
   ]
  },
  {
   "cell_type": "code",
   "execution_count": 7,
   "metadata": {},
   "outputs": [],
   "source": [
    "import os\n",
    "import pandas as pd\n",
    "import shutil\n",
    "from tqdm.auto import notebook_tqdm\n",
    "from sklearn.model_selection import train_test_split"
   ]
  },
  {
   "cell_type": "code",
   "execution_count": 8,
   "metadata": {},
   "outputs": [],
   "source": [
    "df = pd.read_csv('./train_data.csv')\n",
    "train_df, valid_df = train_test_split(df, test_size=0.1, random_state=42)\n",
    "train_df.reset_index(inplace=True, drop=True)\n",
    "valid_df.reset_index(inplace=True, drop=True)\n",
    "\n",
    "train_df.to_csv(\"./data/train_df.csv\", index=False)\n",
    "valid_df.to_csv(\"./data/valid_df.csv\", index=False)"
   ]
  },
  {
   "cell_type": "code",
   "execution_count": null,
   "metadata": {},
   "outputs": [],
   "source": []
  }
 ],
 "metadata": {
  "kernelspec": {
   "display_name": "YOLO",
   "language": "python",
   "name": "python3"
  },
  "language_info": {
   "codemirror_mode": {
    "name": "ipython",
    "version": 3
   },
   "file_extension": ".py",
   "mimetype": "text/x-python",
   "name": "python",
   "nbconvert_exporter": "python",
   "pygments_lexer": "ipython3",
   "version": "3.10.14"
  }
 },
 "nbformat": 4,
 "nbformat_minor": 2
}
